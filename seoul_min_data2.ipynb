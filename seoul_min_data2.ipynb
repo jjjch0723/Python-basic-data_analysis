{
 "cells": [
  {
   "cell_type": "code",
   "execution_count": 5,
   "id": "b6ab0b0a-6774-44cb-b39a-035e8237876b",
   "metadata": {},
   "outputs": [
    {
     "name": "stdout",
     "output_type": "stream",
     "text": [
      "데이터의 총갯수는 1341 20\n",
      "최저 기온은 27.Dec 날짜는 -23.1\n"
     ]
    }
   ],
   "source": [
    "import csv\n",
    "\n",
    "# 데이터를 저장하기 위한 리스트\n",
    "temp = []\n",
    "date = []\n",
    "count = 1\n",
    "\n",
    "min_date = ''   #최저 기온이 가장 낮았던 날짜를 저장할 변수\n",
    "\n",
    "f =open('./seoul.csv', 'r', encoding = 'utf8')\n",
    "data = csv.reader(f)\n",
    "\n",
    "header = next(data)\n",
    "# print(header)\n",
    " \n",
    "firstRow = next(data) # 1st row의 데이터 \n",
    "min_temp = firstRow[-2]\n",
    "min_temp = float(min_temp)\n",
    "# temp.append(row[-2])\n",
    "# date.append(row[0])\n",
    "temp.append(min_temp)\n",
    "date.append(firstRow[0])\n",
    "\n",
    "for row in data: \n",
    "    count = count + 1\n",
    "    row[-2] = float(row[-2])\n",
    "    if count <= 20:\n",
    "        temp.append(row[-2])\n",
    "        date.append(row[0])\n",
    "    \n",
    "    if min_temp > row[-2]: \n",
    "        min_temp = row[-2]\n",
    "        min_date = row[0] \n",
    "f.close()    \n",
    "\n",
    "print('데이터의 총갯수는', count, len(temp))\n",
    "print('최저 기온은', min_date, '날짜는', min_temp)\n"
   ]
  },
  {
   "cell_type": "code",
   "execution_count": null,
   "id": "53797970-f508-460b-9bcc-5c383fc21a61",
   "metadata": {
    "jupyter": {
     "source_hidden": true
    },
    "tags": []
   },
   "outputs": [],
   "source": []
  },
  {
   "cell_type": "code",
   "execution_count": null,
   "id": "1772fa1b-bf3b-410d-b42b-befd9f4ab9d2",
   "metadata": {
    "jupyter": {
     "source_hidden": true
    },
    "tags": []
   },
   "outputs": [],
   "source": []
  },
  {
   "cell_type": "code",
   "execution_count": null,
   "id": "3761c788-28f1-46a2-bb81-900265e001a0",
   "metadata": {
    "jupyter": {
     "source_hidden": true
    },
    "tags": []
   },
   "outputs": [],
   "source": []
  },
  {
   "cell_type": "code",
   "execution_count": null,
   "id": "6f5de728-6a0e-441b-bcaf-e96180f0e73b",
   "metadata": {
    "jupyter": {
     "source_hidden": true
    },
    "tags": []
   },
   "outputs": [],
   "source": []
  },
  {
   "cell_type": "markdown",
   "id": "ebe7a000-22b9-4d92-a199-dff7d9b5251e",
   "metadata": {},
   "source": [
    "## 데이터 시각화"
   ]
  },
  {
   "cell_type": "code",
   "execution_count": 11,
   "id": "e4eeedc7-8f44-4c28-a504-0c5dd3d63a31",
   "metadata": {},
   "outputs": [
    {
     "name": "stderr",
     "output_type": "stream",
     "text": [
      "C:\\Users\\sewoo\\Anaconda\\lib\\site-packages\\IPython\\core\\pylabtools.py:151: UserWarning: Glyph 8722 (\\N{MINUS SIGN}) missing from current font.\n",
      "  fig.canvas.print_figure(bytes_io, **kw)\n"
     ]
    },
    {
     "data": {
      "image/png": "[encoded data removed]",
      "text/plain": [
       "<Figure size 1080x144 with 1 Axes>"
      ]
     },
     "metadata": {
      "needs_background": "light"
     },
     "output_type": "display_data"
    }
   ],
   "source": [
    "import matplotlib.pyplot as plt\n",
    "plt.figure(figsize=(15,2))\n",
    "\n",
    "#한글처리\n",
    "plt.rc('font', family = 'Malgun Gothic')\n",
    "#plt.rcParams['axes.unicode_munis'] = False\n",
    "plt.title('서울의 최고 최저기온')\n",
    "plt.plot(date, temp, 'ko--', label='temp')\n",
    "# plt.plot(date, temp, color='red', marker='s', label='temp')\n",
    "plt.legend()\n",
    "plt.show()\n",
    "\n"
   ]
  },
  {
   "cell_type": "code",
   "execution_count": 12,
   "id": "d359e8cc-da0e-4fb1-a491-45e08d34cba1",
   "metadata": {},
   "outputs": [
    {
     "data": {
      "text/plain": [
       "<function matplotlib.pyplot.show(close=None, block=None)>"
      ]
     },
     "execution_count": 12,
     "metadata": {},
     "output_type": "execute_result"
    },
    {
     "data": {
      "image/png": "[encoded data removed]",
      "text/plain": [
       "<Figure size 432x288 with 1 Axes>"
      ]
     },
     "metadata": {
      "needs_background": "light"
     },
     "output_type": "display_data"
    }
   ],
   "source": [
    "import matplotlib.pyplot as plt\n",
    "plt.hist([1,1,2,3,4,5,6,7,8,9,9,10])\n",
    "plt.show"
   ]
  },
  {
   "cell_type": "code",
   "execution_count": null,
   "id": "7f850d42-bac5-451e-a3e0-4725544a765f",
   "metadata": {},
   "outputs": [],
   "source": []
  }
 ],
 "metadata": {
  "kernelspec": {
   "display_name": "Python 3 (ipykernel)",
   "language": "python",
   "name": "python3"
  },
  "language_info": {
   "codemirror_mode": {
    "name": "ipython",
    "version": 3
   },
   "file_extension": ".py",
   "mimetype": "text/x-python",
   "name": "python",
   "nbconvert_exporter": "python",
   "pygments_lexer": "ipython3",
   "version": "3.9.12"
  }
 },
 "nbformat": 4,
 "nbformat_minor": 5
}
