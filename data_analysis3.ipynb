{
 "cells": [
  {
   "cell_type": "code",
   "execution_count": null,
   "id": "a1e8a46e-4a0c-4d42-a6f5-7fbd2403e981",
   "metadata": {},
   "outputs": [],
   "source": [
    "import csv\n",
    "import matplotlib.pyplot as plt\n",
    "import math\n",
    "\n",
    "f = open('Subwayfee.csv','r', encoding='utf-8')\n",
    "data = csv.reader(f)\n",
    "print(data)\n",
    "\n",
    "for row in data :\n",
    "    print(row[3], row[4], row[6])"
   ]
  },
  {
   "cell_type": "code",
   "execution_count": null,
   "id": "910b2122-9401-4918-a2c8-d5b636672cb5",
   "metadata": {},
   "outputs": [],
   "source": [
    "import csv\n",
    "import matplotlib.pyplot as plt\n",
    "import math\n",
    "\n",
    "f = open('Subwayfee_1.csv','r', encoding='utf-8')\n",
    "data = csv.reader(f)\n",
    "header = next(data)\n",
    "print(data)\n",
    "label = ['유임승차', '유임하차', ' 무임승차', '무임하차']\n",
    "\n",
    "for row in data :\n",
    "    for i in range(4,8) :\n",
    "        row[i] = int(row[i])\n",
    "        \n",
    "        \n",
    "    plt.rc('font', family='Malgun Gothic')\n",
    "    plt.rcParams['axes.unicode_minus'] = False\n",
    "    plt.title(row[3] + ' '+ row[1])\n",
    "    plt.pie(row[4:8], labels=label, counterclock=False, autopct='%.1f')\n",
    "    plt.show()\n"
   ]
  },
  {
   "cell_type": "code",
   "execution_count": null,
   "id": "7cfc8900-201c-47f2-a5b8-2162a62e0c0a",
   "metadata": {},
   "outputs": [],
   "source": []
  }
 ],
 "metadata": {
  "kernelspec": {
   "display_name": "Python 3 (ipykernel)",
   "language": "python",
   "name": "python3"
  },
  "language_info": {
   "codemirror_mode": {
    "name": "ipython",
    "version": 3
   },
   "file_extension": ".py",
   "mimetype": "text/x-python",
   "name": "python",
   "nbconvert_exporter": "python",
   "pygments_lexer": "ipython3",
   "version": "3.9.12"
  }
 },
 "nbformat": 4,
 "nbformat_minor": 5
}
