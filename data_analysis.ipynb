{
 "cells": [
  {
   "cell_type": "code",
   "execution_count": 6,
   "id": "10a3f659-61f1-48e0-83e8-20a1909b4c20",
   "metadata": {},
   "outputs": [],
   "source": [
    "import csv"
   ]
  },
  {
   "cell_type": "code",
   "execution_count": 7,
   "id": "bba6f6e6-9f12-4982-8331-467bf381c9ce",
   "metadata": {},
   "outputs": [],
   "source": [
    "f = open(\"Seoul.csv\",\"r\", encoding='utf-8')"
   ]
  },
  {
   "cell_type": "code",
   "execution_count": 8,
   "id": "c5644977-142f-4bdb-b722-7baabdfffd8d",
   "metadata": {},
   "outputs": [],
   "source": [
    "date = csv.reader(f)"
   ]
  },
  {
   "cell_type": "code",
   "execution_count": 9,
   "id": "71678c03-dfc8-4f53-9802-574c39064aba",
   "metadata": {},
   "outputs": [
    {
     "name": "stdout",
     "output_type": "stream",
     "text": [
      "<_csv.reader object at 0x000001C1148034C0>\n"
     ]
    }
   ],
   "source": [
    "print(date)"
   ]
  },
  {
   "cell_type": "code",
   "execution_count": 10,
   "id": "2e9f25a4-4272-4226-830e-9cc14316410e",
   "metadata": {
    "tags": []
   },
   "outputs": [
    {
     "name": "stdout",
     "output_type": "stream",
     "text": [
      "5\n",
      "최고기온(℃)\n"
     ]
    },
    {
     "ename": "NameError",
     "evalue": "name 'count' is not defined",
     "output_type": "error",
     "traceback": [
      "\u001b[1;31m---------------------------------------------------------------------------\u001b[0m",
      "\u001b[1;31mNameError\u001b[0m                                 Traceback (most recent call last)",
      "Input \u001b[1;32mIn [10]\u001b[0m, in \u001b[0;36m<cell line: 1>\u001b[1;34m()\u001b[0m\n\u001b[0;32m      2\u001b[0m     \u001b[38;5;28mprint\u001b[39m(\u001b[38;5;28mlen\u001b[39m(row))\n\u001b[0;32m      3\u001b[0m     \u001b[38;5;28mprint\u001b[39m(row[\u001b[38;5;241m4\u001b[39m])\n\u001b[1;32m----> 4\u001b[0m     count\u001b[38;5;241m+\u001b[39m\u001b[38;5;241m=\u001b[39m\u001b[38;5;241m1\u001b[39m\n\u001b[0;32m      5\u001b[0m \u001b[38;5;28mprint\u001b[39m(count)\n",
      "\u001b[1;31mNameError\u001b[0m: name 'count' is not defined"
     ]
    }
   ],
   "source": [
    "for row in date:\n",
    "    print(len(row))\n",
    "    print(row[4])\n",
    "    count+=1\n",
    "print(count)"
   ]
  },
  {
   "cell_type": "code",
   "execution_count": 11,
   "id": "6eb0de98-6c5d-44df-95f5-059c2ec6e4f8",
   "metadata": {
    "tags": []
   },
   "outputs": [
    {
     "name": "stdout",
     "output_type": "stream",
     "text": [
      "기상 관측 아래 서울의 최고 기온이 가장 높았던 날은 Aug-18로, 39.6 도 였습니다.\n"
     ]
    }
   ],
   "source": [
    "max_date =''\n",
    "max_temp = -999\n",
    "\n",
    "header = next(date)\n",
    "\n",
    "for row in date:\n",
    "    if row[4] == '' :\n",
    "        row[4] = -999\n",
    "    row[4] = float(row[4])\n",
    "    if max_temp < row[4]:\n",
    "        max_date = row[0]\n",
    "        max_temp = row[4]\n",
    "print('기상 관측 아래 서울의 최고 기온이 가장 높았던 날은',max_date+'로,',max_temp,'도 였습니다.')\n",
    "f.close() \n",
    "    "
   ]
  },
  {
   "cell_type": "code",
   "execution_count": 16,
   "id": "ac1f85cc-3ca1-4866-846d-4a2a81df56b8",
   "metadata": {},
   "outputs": [
    {
     "name": "stdout",
     "output_type": "stream",
     "text": [
      "서울의 최저 기온이 가장 낮았던 날은 =  Dec-27, 온도는 =  -23.1 도 입니다.\n"
     ]
    }
   ],
   "source": [
    "import csv\n",
    "f = open('Seoul.csv','r',encoding='utf8')\n",
    "\n",
    "seouls_data = csv.reader(f)\n",
    "headline = next(seouls_data) #맨윗쪽 제거\n",
    "min_date = ''\n",
    "min_temp = 50\n",
    "\n",
    "firstRow = next(data)\n",
    "\n",
    "for row in seouls_data :\n",
    "    if row[3] == '' :\n",
    "        row[3] = 999\n",
    "    row[3] = float(row[3])\n",
    "    if min_temp > row[3] :\n",
    "        min_date = row[0]\n",
    "        min_temp = row[3]\n",
    "\n",
    "print('서울의 최저 기온이 가장 낮았던 날은 = ',min_date+', 온도는 = ',min_temp,'도 입니다.')\n",
    "f.close()  "
   ]
  },
  {
   "cell_type": "code",
   "execution_count": null,
   "id": "6e1c02c5-c1e1-4a2d-959b-8131f78aeafd",
   "metadata": {},
   "outputs": [],
   "source": []
  },
  {
   "cell_type": "code",
   "execution_count": null,
   "id": "03ef0c2b-4155-4341-b604-c5afa94b45e7",
   "metadata": {},
   "outputs": [],
   "source": []
  },
  {
   "cell_type": "code",
   "execution_count": null,
   "id": "ada73b48-ef1f-4c7c-8ba5-fd760f992c64",
   "metadata": {},
   "outputs": [],
   "source": []
  }
 ],
 "metadata": {
  "kernelspec": {
   "display_name": "Python 3 (ipykernel)",
   "language": "python",
   "name": "python3"
  },
  "language_info": {
   "codemirror_mode": {
    "name": "ipython",
    "version": 3
   },
   "file_extension": ".py",
   "mimetype": "text/x-python",
   "name": "python",
   "nbconvert_exporter": "python",
   "pygments_lexer": "ipython3",
   "version": "3.9.12"
  }
 },
 "nbformat": 4,
 "nbformat_minor": 5
}
