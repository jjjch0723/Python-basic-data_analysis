{
 "cells": [
  {
   "cell_type": "code",
   "execution_count": 59,
   "id": "d3136ff3-8aa2-4548-b283-8525450a9689",
   "metadata": {},
   "outputs": [
    {
     "name": "stdout",
     "output_type": "stream",
     "text": [
      "서울의 최저 기온이 가장 낮았던 날은 =  Dec-27, 온도는 =  -23.1 도 입니다.\n"
     ]
    }
   ],
   "source": [
    "import csv\n",
    "#---------------폴더오픈------------------------------\n",
    "folder = open('Seoul.csv','r',encoding='utf8')\n",
    "\n",
    "#-------------읽어온폴더를 변수지정--------------------\n",
    "seouls_data = csv.reader(folder)\n",
    "\n",
    "#----------헤드라인제거 및 최소기온값지정---------------\n",
    "headline = next(seouls_data) #맨윗쪽 제거\n",
    "min_date = ''\n",
    "min_temp = 999 \n",
    "\n",
    "#----------1.FOR문으로 읽어온 파일을 ------------------\n",
    "#----------2.ROW값을 하나하나 읽어 최소값 추출----------\n",
    "#----------3.temp값을 하나하나 읽어 최소값 추출--------- \n",
    "for row in seouls_data :\n",
    "    if row[3] == '' :\n",
    "        row[3] = 999 # -> 없는 데이터는 \n",
    "    row[3] = float(row[3]) # -> 온도를 소수점까지 보기위해 실수형으로 형변환까지 해주기\n",
    "    \n",
    "    if min_temp > row[3] :\n",
    "        min_date = row[0]\n",
    "        min_temp = row[3]\n",
    "        \n",
    "#-----------------------출력문-------------------------\n",
    "print('서울의 최저 기온이 가장 낮았던 날은 = ',min_date+', 온도는 = ',min_temp,'도 입니다.')\n"
   ]
  }
 ],
 "metadata": {
  "kernelspec": {
   "display_name": "Python 3 (ipykernel)",
   "language": "python",
   "name": "python3"
  },
  "language_info": {
   "codemirror_mode": {
    "name": "ipython",
    "version": 3
   },
   "file_extension": ".py",
   "mimetype": "text/x-python",
   "name": "python",
   "nbconvert_exporter": "python",
   "pygments_lexer": "ipython3",
   "version": "3.9.12"
  }
 },
 "nbformat": 4,
 "nbformat_minor": 5
}
