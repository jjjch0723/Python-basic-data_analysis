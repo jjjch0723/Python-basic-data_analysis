{
 "cells": [
  {
   "cell_type": "code",
   "execution_count": 6,
   "id": "1ae017b2-93ff-4cd7-9517-8c6b4dc497ff",
   "metadata": {},
   "outputs": [
    {
     "name": "stdout",
     "output_type": "stream",
     "text": [
      "['\\ufeff년월', '지점', '평균기온(℃)', '최저기온(℃)', '최고기온(℃)']\n"
     ]
    }
   ],
   "source": [
    "import csv \n",
    "f = open('seoul.csv', encoding='utf-8')\n",
    "data = csv.reader(f)\n",
    "header = next(data)\n",
    "print(header)\n"
   ]
  },
  {
   "cell_type": "code",
   "execution_count": 7,
   "id": "008498b9-cdda-439e-b987-4e70fce6865c",
   "metadata": {},
   "outputs": [
    {
     "name": "stdout",
     "output_type": "stream",
     "text": [
      "1341\n",
      "[25.4, 21.3, 9.0, 6.2, 8.4, 18.2, 22.9, 25.2, 32.4, 32.9, 33.6, 28.7, 25.3, 18.9, 11.7, 7.6, 8.8, 15.2, 23.3, 29.8, 31.7, 31.8, 35.6, 29.5, 26.5, 20.3, 11.0, 8.0, 8.3, 15.0, 23.0, 31.0, 31.5, 33.3, 32.0, 27.0, 24.1, 20.2, 5.8, 8.8, 12.5, 19.1, 24.1, 30.0, 30.6, 31.0, 34.5, 32.8, 22.9, 15.7, 9.5, 5.4, 14.7, 16.3, 23.1, 29.7, 30.0, 32.2, 34.0, 32.2, 25.7, 16.5, 8.8, 6.3, 11.5, 18.4, 25.6, 30.0, 30.8, 30.7, 31.7, 30.0, 30.1, 17.6, 10.9, 9.2, 12.3, 17.1, 24.8, 29.1, 35.0, 35.6, 34.4, 32.4, 24.1, 21.1, 14.1, 12.0, 11.0, 16.7, 22.3, 28.3, 30.5, 33.9, 34.8, 27.9, 26.8, 17.8, 13.5, 12.2]\n"
     ]
    }
   ],
   "source": [
    "result = []\n",
    "date = []\n",
    "\n",
    "for row in data :\n",
    "    if row[-1] != '':\n",
    "        result.append(float(row[-1]))\n",
    "        date.append(row[0])\n",
    "\n",
    "result10 = result[0:10]\n",
    "date10 = date[0:10]\n",
    "            \n",
    "# 리스트 슬라이싱\n",
    "print(len(result))\n",
    "print(result[0:100])"
   ]
  },
  {
   "cell_type": "code",
   "execution_count": 8,
   "id": "d573586a-093a-4ce7-8162-c7089e2a0856",
   "metadata": {},
   "outputs": [
    {
     "data": {
      "image/png": "[encoded data removed]",
      "text/plain": [
       "<Figure size 432x288 with 1 Axes>"
      ]
     },
     "metadata": {
      "needs_background": "light"
     },
     "output_type": "display_data"
    }
   ],
   "source": [
    "import matplotlib.pyplot as plt\n",
    "plt.title('Max temp of Seoul')\n",
    "plt.plot(date10, result10,'bx--', label='max temp')\n",
    "plt.legend()\n",
    "plt.show()\n"
   ]
  },
  {
   "cell_type": "code",
   "execution_count": 9,
   "id": "db4d463c-f525-4093-ac58-63eb15e78b15",
   "metadata": {},
   "outputs": [
    {
     "ename": "NameError",
     "evalue": "name 'maxTemp' is not defined",
     "output_type": "error",
     "traceback": [
      "\u001b[1;31m---------------------------------------------------------------------------\u001b[0m",
      "\u001b[1;31mNameError\u001b[0m                                 Traceback (most recent call last)",
      "Input \u001b[1;32mIn [9]\u001b[0m, in \u001b[0;36m<cell line: 3>\u001b[1;34m()\u001b[0m\n\u001b[0;32m      1\u001b[0m \u001b[38;5;28;01mimport\u001b[39;00m \u001b[38;5;21;01mmatplotlib\u001b[39;00m\u001b[38;5;21;01m.\u001b[39;00m\u001b[38;5;21;01mpyplot\u001b[39;00m \u001b[38;5;28;01mas\u001b[39;00m \u001b[38;5;21;01mplt\u001b[39;00m\n\u001b[0;32m      2\u001b[0m plt\u001b[38;5;241m.\u001b[39mtitle(\u001b[38;5;124m'\u001b[39m\u001b[38;5;124mMax temp if Seoul\u001b[39m\u001b[38;5;124m'\u001b[39m)\n\u001b[1;32m----> 3\u001b[0m plt\u001b[38;5;241m.\u001b[39mboxplot([\u001b[43mmaxTemp\u001b[49m, minTemp])\n\u001b[0;32m      4\u001b[0m plt\u001b[38;5;241m.\u001b[39mxticks([\u001b[38;5;241m1\u001b[39m,\u001b[38;5;241m2\u001b[39m], [\u001b[38;5;124m'\u001b[39m\u001b[38;5;124mmaxTemp\u001b[39m\u001b[38;5;124m'\u001b[39m, \u001b[38;5;124m'\u001b[39m\u001b[38;5;124mminTemp\u001b[39m\u001b[38;5;124m'\u001b[39m])\n\u001b[0;32m      6\u001b[0m plt\u001b[38;5;241m.\u001b[39mylabel(\u001b[38;5;124m'\u001b[39m\u001b[38;5;124mTemp\u001b[39m\u001b[38;5;124m'\u001b[39m)\n",
      "\u001b[1;31mNameError\u001b[0m: name 'maxTemp' is not defined"
     ]
    },
    {
     "data": {
      "image/png": "[encoded data removed]",
      "text/plain": [
       "<Figure size 432x288 with 1 Axes>"
      ]
     },
     "metadata": {
      "needs_background": "light"
     },
     "output_type": "display_data"
    }
   ],
   "source": [
    "import matplotlib.pyplot as plt\n",
    "plt.title('Max temp if Seoul')\n",
    "plt.boxplot([maxTemp, minTemp])\n",
    "plt.xticks([1, 2], ['maxTemp', 'minTemp'])\n",
    "                   \n",
    "plt.ylabel('Temp')\n",
    "                   \n",
    "plt.show()"
   ]
  },
  {
   "cell_type": "code",
   "execution_count": null,
   "id": "6fc59c12-0d55-4198-9f2a-1c3ad5af99b4",
   "metadata": {},
   "outputs": [],
   "source": []
  }
 ],
 "metadata": {
  "kernelspec": {
   "display_name": "Python 3 (ipykernel)",
   "language": "python",
   "name": "python3"
  },
  "language_info": {
   "codemirror_mode": {
    "name": "ipython",
    "version": 3
   },
   "file_extension": ".py",
   "mimetype": "text/x-python",
   "name": "python",
   "nbconvert_exporter": "python",
   "pygments_lexer": "ipython3",
   "version": "3.9.12"
  }
 },
 "nbformat": 4,
 "nbformat_minor": 5
}
