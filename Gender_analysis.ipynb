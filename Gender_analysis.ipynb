{
 "cells": [
  {
   "cell_type": "code",
   "execution_count": null,
   "id": "b7f5294f-f53e-478c-bd27-a9e94bc7a616",
   "metadata": {},
   "outputs": [],
   "source": [
    "import csv\n",
    "import math\n",
    "import matplotlib.pyplot as plt\n",
    "\n",
    "#----------------------------------------------------------\n",
    "#데이터불러오기, 배열저장\n",
    "f = open('busan_gander.csv', encoding='utf-8')\n",
    "data = csv.reader(f)\n",
    "header = next(data)\n",
    "male = []\n",
    "female = []\n",
    "size = []\n",
    "\n",
    "#----------------------------------------------------------\n",
    "#데이터에서 분류 및 위에서 저장해둔 배열에 저장\n",
    "name = input('원하는 지역의 이름을 입력하십시오 : ')\n",
    "\n",
    "for row in data :\n",
    "    if name in row[0] :\n",
    "        for a in row[106:207] :\n",
    "            a = a.replace(',','')\n",
    "            male.append(int(a))\n",
    "            \n",
    "        for b in row[209:]:\n",
    "            b = b.replace(',','')\n",
    "            female.append(int(b))\n",
    "            \n",
    "        for c in range(101):\n",
    "            size.append(math.sqrt(male[c]+female[c]))\n",
    "            \n",
    "        break\n",
    "        \n",
    "#----------------------------------------------------------\n",
    "print(len(size))\n",
    "\n",
    "#----------------------------------------------------------\n",
    "plt.style.use('ggplot')\n",
    "plt.rc('font',family='Malgun Gothic')\n",
    "plt.rcParams['axes.unicode_minus'] = False\n",
    "plt.figure(figsize=(10,5), dpi=300)\n",
    "plt. title(name+' 지역의 성별 인구 그래프')\n",
    "plt.scatter(male, female, s=size, c=range(101), alpha=0.5, cmap='jet')\n",
    "plt.plot(range(max(male)),range(max(male)), 'g')\n",
    "plt.colorbar()\n",
    "plt.xlabel('남성 인구수')\n",
    "plt.ylabel('여성 인구수')\n",
    "\n",
    "#----------------------------------------------------------\n",
    "plt.show()"
   ]
  }
 ],
 "metadata": {
  "kernelspec": {
   "display_name": "Python 3 (ipykernel)",
   "language": "python",
   "name": "python3"
  },
  "language_info": {
   "codemirror_mode": {
    "name": "ipython",
    "version": 3
   },
   "file_extension": ".py",
   "mimetype": "text/x-python",
   "name": "python",
   "nbconvert_exporter": "python",
   "pygments_lexer": "ipython3",
   "version": "3.9.12"
  }
 },
 "nbformat": 4,
 "nbformat_minor": 5
}
