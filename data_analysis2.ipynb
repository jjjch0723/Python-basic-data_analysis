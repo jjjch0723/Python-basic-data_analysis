{
 "cells": [
  {
   "cell_type": "code",
   "execution_count": 1,
   "id": "889b4a80-ab0a-4df6-971f-d4b7135b227a",
   "metadata": {},
   "outputs": [
    {
     "data": {
      "image/png": "[encoded data removed]",
      "text/plain": [
       "<Figure size 432x288 with 1 Axes>"
      ]
     },
     "metadata": {
      "needs_background": "light"
     },
     "output_type": "display_data"
    }
   ],
   "source": [
    "import csv\n",
    "import matplotlib.pyplot as plt\n",
    "\n",
    "f = open('seoul.csv', encoding='utf-8')\n",
    "data = csv.reader(f)\n",
    "next(data)\n",
    "result = []\n",
    "\n",
    "for row in data : \n",
    "    if row[-1] != '':\n",
    "        result.append(float(row[-1]))\n",
    "    \n",
    "plt.hist(result, bins=100, color='r')\n",
    "plt.show()"
   ]
  },
  {
   "cell_type": "code",
   "execution_count": 2,
   "id": "286ea4af-c18d-4149-b730-0008d229ac09",
   "metadata": {},
   "outputs": [
    {
     "ename": "NameError",
     "evalue": "name 'dice' is not defined",
     "output_type": "error",
     "traceback": [
      "\u001b[1;31m---------------------------------------------------------------------------\u001b[0m",
      "\u001b[1;31mNameError\u001b[0m                                 Traceback (most recent call last)",
      "Input \u001b[1;32mIn [2]\u001b[0m, in \u001b[0;36m<cell line: 2>\u001b[1;34m()\u001b[0m\n\u001b[0;32m      1\u001b[0m \u001b[38;5;28;01mimport\u001b[39;00m \u001b[38;5;21;01mmatplotlib\u001b[39;00m\u001b[38;5;21;01m.\u001b[39;00m\u001b[38;5;21;01mpyplot\u001b[39;00m \u001b[38;5;28;01mas\u001b[39;00m \u001b[38;5;21;01mplt\u001b[39;00m\n\u001b[1;32m----> 2\u001b[0m plt\u001b[38;5;241m.\u001b[39mhist(\u001b[43mdice\u001b[49m, bins\u001b[38;5;241m=\u001b[39m\u001b[38;5;241m6\u001b[39m)\n\u001b[0;32m      3\u001b[0m plt\u001b[38;5;241m.\u001b[39mshow()\n",
      "\u001b[1;31mNameError\u001b[0m: name 'dice' is not defined"
     ]
    }
   ],
   "source": [
    "import matplotlib.pyplot as plt\n",
    "plt.hist(dice, bins=6)\n",
    "plt.show()"
   ]
  },
  {
   "cell_type": "code",
   "execution_count": null,
   "id": "817347a2-091c-4698-a971-182a1c34122f",
   "metadata": {},
   "outputs": [],
   "source": [
    "import csv\n",
    "import matplotlib.pyplot as plt\n",
    "\n",
    "f = open('seoul.csv', encoding='utf-8')\n",
    "data = csv.reader(f)\n",
    "next(data)\n",
    "\n",
    "hight = []\n",
    "row=[]\n",
    "\n",
    "for row in data : \n",
    "    if row[-1] != '':\n",
    "        if row[0].split('.')[1] == '2':\n",
    "            high.append(float(row[-1]))\n",
    "            \n",
    "    if row[-2] != '' :\n",
    "        if row[0].split(',')[1] == '2':\n",
    "            row.append(float(row[-1]))\n",
    "    \n",
    "    "
   ]
  },
  {
   "cell_type": "code",
   "execution_count": null,
   "id": "2ac9964d-f6ea-4c47-ad1a-1d28569eca48",
   "metadata": {},
   "outputs": [],
   "source": [
    "import csv\n",
    "import matplotlib.pyplot as plt\n",
    "\n",
    "f = open('seoul.csv', encoding='utf-8')\n",
    "data = csv.reader(f)\n",
    "next(data)\n",
    "aug = []\n",
    "\n",
    "for row in data:\n",
    "    month = row[0].split(',')[1]\n",
    "    if row[-1] != '' :\n",
    "        if month == '8':\n",
    "            aug.append(float(row[-1]))\n",
    "            \n",
    "plt.hist(aug, bins = 100, color = 'r')\n",
    "plt.show()"
   ]
  },
  {
   "cell_type": "code",
   "execution_count": 7,
   "id": "be74fb6c-7fdc-44bc-9269-341866695163",
   "metadata": {},
   "outputs": [
    {
     "data": {
      "image/png": "[encoded data removed]",
      "text/plain": [
       "<Figure size 432x288 with 1 Axes>"
      ]
     },
     "metadata": {
      "needs_background": "light"
     },
     "output_type": "display_data"
    }
   ],
   "source": [
    "%matplotlib inline\n",
    "import csv\n",
    "import matplotlib.pyplot as plt\n",
    "import random\n",
    "\n",
    "f =open('seoul.csv', 'r', encoding = 'utf-8')\n",
    "data = csv.reader(f)\n",
    "next(data)\n",
    "aug=[]\n",
    "\n",
    "for row in data :\n",
    "    month = row[0].split('.')[1]\n",
    "    if row[-1] != '':\n",
    "        if month == '8':\n",
    "            aug.append(float(row[-1]))\n",
    "            \n",
    "import matplotlib.pyplot as plt  \n",
    "plt.title('august temperature')\n",
    "plt.hist(aug, bins=100, color='r' ) \n",
    "plt.show()"
   ]
  },
  {
   "cell_type": "code",
   "execution_count": 1,
   "id": "30c5c9a3-73a1-46b7-b0a9-18460660846f",
   "metadata": {},
   "outputs": [
    {
     "ename": "SyntaxError",
     "evalue": "unexpected EOF while parsing (888004991.py, line 16)",
     "output_type": "error",
     "traceback": [
      "\u001b[1;36m  Input \u001b[1;32mIn [1]\u001b[1;36m\u001b[0m\n\u001b[1;33m    \u001b[0m\n\u001b[1;37m    ^\u001b[0m\n\u001b[1;31mSyntaxError\u001b[0m\u001b[1;31m:\u001b[0m unexpected EOF while parsing\n"
     ]
    }
   ],
   "source": [
    "import csv\n",
    "\n",
    "f =open('seoul.csv', 'r', encoding = 'utf-8')\n",
    "data = csv.reader(f)\n",
    "header = next(date)\n",
    "print(header)\n",
    "count = 0\n",
    "\n",
    "result = []\n",
    "\n",
    "for row in data :\n",
    "    count += 1\n",
    "    if row[-1] != '' :\n",
    "        if count <= 100 :\n",
    "            result.append(float(row[-1]))\n",
    "            count = count + 1 \n",
    "print(len(result))       "
   ]
  },
  {
   "cell_type": "code",
   "execution_count": null,
   "id": "49638c28-aa31-48c5-bfb3-26c72916477c",
   "metadata": {},
   "outputs": [],
   "source": [
    "import csv\n",
    "import matplotlib.pyplot as plt\n",
    "\n",
    "plt.title('max temp of seoul')\n",
    "plt.plt(data10, result10, 'bx--', label='max temp')\n",
    "plt.legend()\n",
    "plt.show()"
   ]
  },
  {
   "cell_type": "code",
   "execution_count": null,
   "id": "956ee6b5-8b32-44b8-a3ef-5b14a25e0642",
   "metadata": {},
   "outputs": [],
   "source": []
  },
  {
   "cell_type": "code",
   "execution_count": null,
   "id": "5e6a85e2-211c-4b21-adc7-31c64799bdd5",
   "metadata": {},
   "outputs": [],
   "source": []
  }
 ],
 "metadata": {
  "kernelspec": {
   "display_name": "Python 3 (ipykernel)",
   "language": "python",
   "name": "python3"
  },
  "language_info": {
   "codemirror_mode": {
    "name": "ipython",
    "version": 3
   },
   "file_extension": ".py",
   "mimetype": "text/x-python",
   "name": "python",
   "nbconvert_exporter": "python",
   "pygments_lexer": "ipython3",
   "version": "3.9.12"
  }
 },
 "nbformat": 4,
 "nbformat_minor": 5
}
